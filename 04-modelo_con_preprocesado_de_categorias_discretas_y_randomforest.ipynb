{
  "cells": [
    {
      "cell_type": "markdown",
      "metadata": {
        "id": "D6yIHHU2p-EF"
      },
      "source": [
        "# 01.01 - PROYECTO KAGGLE"
      ]
    },
    {
      "cell_type": "code",
      "execution_count": 2,
      "metadata": {
        "colab": {
          "base_uri": "https://localhost:8080/",
          "height": 75
        },
        "id": "b6oefQ2Ap-EL",
        "outputId": "fa3740b7-199d-4cf6-ce90-810f313e4c55"
      },
      "outputs": [
        {
          "output_type": "display_data",
          "data": {
            "text/plain": [
              "<IPython.core.display.HTML object>"
            ],
            "text/html": [
              "\n",
              "<meta name=\"google-signin-client_id\"\n",
              "      content=\"461673936472-kdjosv61up3ac1ajeuq6qqu72upilmls.apps.googleusercontent.com\"/>\n",
              "<script src=\"https://apis.google.com/js/client:platform.js?onload=google_button_start\"></script>\n",
              "    "
            ]
          },
          "metadata": {}
        },
        {
          "output_type": "stream",
          "name": "stdout",
          "text": [
            "replicating local resources\n"
          ]
        },
        {
          "output_type": "execute_result",
          "data": {
            "text/plain": [
              "<IPython.core.display.HTML object>"
            ],
            "text/html": [
              "<h3>See <a href='https://m5knaekxo6.execute-api.us-west-2.amazonaws.com/dev-v0001/rlxmooc/web/login' target='_blank'>my courses and progress</a></h2>"
            ]
          },
          "metadata": {},
          "execution_count": 2
        }
      ],
      "source": [
        "!wget --no-cache -O init.py -q https://raw.githubusercontent.com/rramosp/ai4eng.v1/main/content/init.py\n",
        "import init; init.init(force_download=False); init.get_weblink()"
      ]
    },
    {
      "cell_type": "markdown",
      "metadata": {
        "id": "CdkWz0856v-Z"
      },
      "source": [
        "## download data directly from Kaggle\n",
        "\n",
        "- create a file `kaggle.json` with your authentication token (in kaggle $\\to$ click user icon on top-right $\\to$ settings $\\to$ API create new token)\n",
        "- upload it to this notebook workspace\n",
        "- run the following cell"
      ]
    },
    {
      "cell_type": "code",
      "execution_count": 8,
      "metadata": {
        "colab": {
          "base_uri": "https://localhost:8080/"
        },
        "collapsed": true,
        "id": "HJ8jqq-FqPUB",
        "outputId": "07088f59-4646-41ba-a2fa-889fddea9d34"
      },
      "outputs": [
        {
          "output_type": "stream",
          "name": "stdout",
          "text": [
            "Downloading udea-ai4eng-20242.zip to /content\n",
            " 60% 12.0M/20.1M [00:00<00:00, 120MB/s]\n",
            "100% 20.1M/20.1M [00:00<00:00, 160MB/s]\n"
          ]
        }
      ],
      "source": [
        "import os\n",
        "os.environ['KAGGLE_CONFIG_DIR'] = '.'\n",
        "!chmod 600 ./kaggle.json\n",
        "!kaggle competitions download -c udea-ai4eng-20242"
      ]
    },
    {
      "cell_type": "markdown",
      "metadata": {
        "id": "_DFu9Pgx7n4V"
      },
      "source": [
        "## unzip y exploración"
      ]
    },
    {
      "cell_type": "code",
      "execution_count": 9,
      "metadata": {
        "id": "WE2IYDHKqPYv"
      },
      "outputs": [],
      "source": [
        "!unzip udea*.zip > /dev/null"
      ]
    },
    {
      "cell_type": "code",
      "execution_count": 10,
      "metadata": {
        "colab": {
          "base_uri": "https://localhost:8080/"
        },
        "collapsed": true,
        "id": "3QtFhJ2S7sBC",
        "outputId": "9567f04c-1920-4213-a0f4-13383a103650"
      },
      "outputs": [
        {
          "output_type": "stream",
          "name": "stdout",
          "text": [
            "   296787    296787   4716673 submission_example.csv\n",
            "   296787   4565553  50135751 test.csv\n",
            "   692501  10666231 118025055 train.csv\n",
            "  1286075  15528571 172877479 total\n"
          ]
        }
      ],
      "source": [
        "!wc *.csv"
      ]
    },
    {
      "cell_type": "markdown",
      "metadata": {
        "id": "vQacFVFN8Lok"
      },
      "source": [
        "## load `train.csv`\n"
      ]
    },
    {
      "cell_type": "code",
      "execution_count": 1,
      "metadata": {
        "id": "kRVn9BNdbYjA"
      },
      "outputs": [],
      "source": [
        "import pandas as pd\n",
        "from sklearn.model_selection import StratifiedKFold, GridSearchCV\n",
        "from sklearn.compose import ColumnTransformer\n",
        "from sklearn.pipeline import Pipeline\n",
        "from sklearn.preprocessing import OneHotEncoder, StandardScaler\n",
        "from sklearn.impute import SimpleImputer\n",
        "from sklearn.ensemble import RandomForestClassifier"
      ]
    },
    {
      "cell_type": "code",
      "execution_count": 11,
      "metadata": {
        "collapsed": true,
        "id": "9bitCKLB74cC"
      },
      "outputs": [],
      "source": [
        "train_data = pd.read_csv(\"train.csv\")\n",
        "test_data = pd.read_csv(\"test.csv\")"
      ]
    },
    {
      "cell_type": "code",
      "execution_count": 12,
      "metadata": {
        "collapsed": true,
        "id": "43IJ0U_J74gs"
      },
      "outputs": [],
      "source": [
        "enrollment_mapping = {\n",
        "    \"No pagó matrícula\": 0.0,\n",
        "    \"Menos de 500 mil\": 0.25,\n",
        "    \"Entre 500 mil y menos de 1 millón\": 0.75,\n",
        "    \"Entre 1 millón y menos de 2.5 millones\": 1.75,\n",
        "    \"Entre 2.5 millones y menos de 4 millones\": 3.25,\n",
        "    \"Entre 4 millones y menos de 5.5 millones\": 4.75,\n",
        "    \"Entre 5.5 millones y menos de 7 millones\": 6.25,\n",
        "    \"Más de 7 millones\": 7.5,\n",
        "}\n",
        "train_data['ESTU_VALORMATRICULAUNIVERSIDAD'] = train_data['ESTU_VALORMATRICULAUNIVERSIDAD'].map(enrollment_mapping)\n",
        "test_data['ESTU_VALORMATRICULAUNIVERSIDAD'] = test_data['ESTU_VALORMATRICULAUNIVERSIDAD'].map(enrollment_mapping)\n",
        "\n",
        "workHours_mapping = {'Entre 21 y 30 horas': 25,\n",
        " 'Más de 30 horas': 35,\n",
        " 'Menos de 10 horas': 5,\n",
        " 'Entre 11 y 20 horas': 15,\n",
        " '0': 0}\n",
        "train_data['ESTU_HORASSEMANATRABAJA'] = train_data['ESTU_HORASSEMANATRABAJA'].map(workHours_mapping)\n",
        "test_data['ESTU_HORASSEMANATRABAJA'] = test_data['ESTU_HORASSEMANATRABAJA'].map(workHours_mapping)\n",
        "\n",
        "social_status_mapping = {'Estrato 1': 1,\n",
        " 'Estrato 2': 2,\n",
        " 'Estrato 3': 3,\n",
        " 'Estrato 4': 4,\n",
        " 'Estrato 5': 5,\n",
        " 'Estrato 6': 6,\n",
        " 'Sin Estrato': 0,}\n",
        "train_data['FAMI_ESTRATOVIVIENDA'] = train_data['FAMI_ESTRATOVIVIENDA'].map(social_status_mapping)\n",
        "test_data['FAMI_ESTRATOVIVIENDA'] = test_data['FAMI_ESTRATOVIVIENDA'].map(social_status_mapping)\n",
        "\n",
        "binary_map = {\"Si\": 1, \"No\": 0}\n",
        "train_data['FAMI_TIENEINTERNET'] = train_data['FAMI_TIENEINTERNET'].map(binary_map)\n",
        "test_data['FAMI_TIENEINTERNET'] = test_data['FAMI_TIENEINTERNET'].map(binary_map)\n",
        "train_data['ESTU_PAGOMATRICULAPROPIO'] = train_data['ESTU_PAGOMATRICULAPROPIO'].map(binary_map)\n",
        "test_data['ESTU_PAGOMATRICULAPROPIO'] = test_data['ESTU_PAGOMATRICULAPROPIO'].map(binary_map)\n",
        "\n",
        "target = {'bajo': 0, 'medio-bajo': 1, 'medio-alto': 2, 'alto': 3}\n",
        "train_data['RENDIMIENTO_GLOBAL'] = train_data['RENDIMIENTO_GLOBAL'].map(target)"
      ]
    },
    {
      "cell_type": "code",
      "source": [
        "X_train = train_data.drop(columns=['ID', 'RENDIMIENTO_GLOBAL'])\n",
        "y_train = train_data['RENDIMIENTO_GLOBAL']\n",
        "X_test = test_data.drop(columns=['ID'])"
      ],
      "metadata": {
        "id": "VNkRFpJ5iUx-"
      },
      "execution_count": 13,
      "outputs": []
    },
    {
      "cell_type": "code",
      "source": [
        "numerical_cols = X_train.select_dtypes(include=['float64', 'int64']).columns\n",
        "categorical_cols = X_train.select_dtypes(include=['object']).columns\n",
        "\n",
        "preprocessor = ColumnTransformer(\n",
        "    transformers=[\n",
        "        ('num', Pipeline(steps=[\n",
        "            ('imputer', SimpleImputer(strategy='median')),\n",
        "            ('scaler', StandardScaler())\n",
        "        ]), numerical_cols),\n",
        "        ('cat', OneHotEncoder(handle_unknown='ignore'), categorical_cols)\n",
        "    ]\n",
        ")\n"
      ],
      "metadata": {
        "id": "vZ2CgABsiWpp"
      },
      "execution_count": 14,
      "outputs": []
    },
    {
      "cell_type": "code",
      "source": [
        "rf_model = RandomForestClassifier(random_state=42)\n",
        "\n",
        "param_grid = {\n",
        "    'classifier__n_estimators': [100, 200],\n",
        "    'classifier__max_depth': [10, 20],\n",
        "    'classifier__min_samples_split': [2, 5],\n",
        "    'classifier__min_samples_leaf': [1, 2]\n",
        "}\n",
        "\n",
        "pipeline = Pipeline(steps=[\n",
        "    ('preprocessor', preprocessor),\n",
        "    ('classifier', rf_model)\n",
        "])\n",
        "\n",
        "cv = StratifiedKFold(n_splits=5, shuffle=True, random_state=42)\n",
        "\n",
        "grid_search = GridSearchCV(pipeline, param_grid, cv=cv, scoring='accuracy', n_jobs=-1)\n",
        "grid_search.fit(X_train, y_train)\n",
        "\n",
        "print(\"Mejores hiperparámetros:\", grid_search.best_params_)\n",
        "\n",
        "# Predicciones finales\n",
        "best_model = grid_search.best_estimator_\n",
        "predictions = best_model.predict(X_test)\n"
      ],
      "metadata": {
        "id": "0AfrLgCgl8yG"
      },
      "execution_count": null,
      "outputs": []
    },
    {
      "cell_type": "code",
      "source": [
        "target_inverse_mapping = {0: 'bajo', 1: 'medio-bajo', 2: 'medio-alto', 3: 'alto'}\n",
        "predictions_labels = [target_inverse_mapping[pred] for pred in predictions]"
      ],
      "metadata": {
        "id": "ISkMBnXCimGD"
      },
      "execution_count": null,
      "outputs": []
    },
    {
      "cell_type": "code",
      "execution_count": null,
      "metadata": {
        "id": "pCu-R19d_g6I"
      },
      "outputs": [],
      "source": [
        "submission_df = pd.DataFrame({\n",
        "    \"ID\": test_data['ID'],\n",
        "    \"RENDIMIENTO_GLOBAL\": predictions_labels\n",
        "})\n",
        "submission_df.to_csv(\"my_submission.csv\", index=False)"
      ]
    },
    {
      "cell_type": "code",
      "execution_count": null,
      "metadata": {
        "colab": {
          "base_uri": "https://localhost:8080/"
        },
        "id": "jG-PlhVS_DPS",
        "outputId": "622c2b84-6d92-4ce7-aa55-4920c9b158f3"
      },
      "outputs": [
        {
          "output_type": "stream",
          "name": "stdout",
          "text": [
            "\r  0% 0.00/4.05M [00:00<?, ?B/s]\r100% 4.05M/4.05M [00:00<00:00, 16.8MB/s]\n",
            "Successfully submitted to UDEA/ai4eng 20242 - Pruebas Saber Pro Colombia"
          ]
        }
      ],
      "source": [
        "!kaggle competitions submit -c udea-ai4eng-20242 -f my_submission.csv -m \"third try\""
      ]
    }
  ],
  "metadata": {
    "colab": {
      "provenance": []
    },
    "kernelspec": {
      "display_name": "p37",
      "language": "python",
      "name": "p37"
    },
    "language_info": {
      "codemirror_mode": {
        "name": "ipython",
        "version": 3
      },
      "file_extension": ".py",
      "mimetype": "text/x-python",
      "name": "python",
      "nbconvert_exporter": "python",
      "pygments_lexer": "ipython3",
      "version": "3.7.4"
    }
  },
  "nbformat": 4,
  "nbformat_minor": 0
}